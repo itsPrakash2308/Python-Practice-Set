{
 "cells": [
  {
   "cell_type": "markdown",
   "id": "af342466",
   "metadata": {},
   "source": [
    "#### Q1. Write a Python program that defines a function called \"add_numbers\" that takes two arguments (i.e., numbers) and returns their sum. Within the function, add the two numbers together and return the result using the return statement. Call the function with the values 5 and 6, and print out the returned result. This will result in the addition of 5 and 6, with the output of the program being the sum of these two numbers."
   ]
  },
  {
   "cell_type": "code",
   "execution_count": 13,
   "id": "08dabd7a",
   "metadata": {},
   "outputs": [
    {
     "name": "stdout",
     "output_type": "stream",
     "text": [
      "9 is the sum\n"
     ]
    }
   ],
   "source": [
    "def addition(x,y):\n",
    "    print (x + y,\"is the sum.\")\n",
    "addition(5,4)"
   ]
  },
  {
   "cell_type": "markdown",
   "id": "7fea2f70",
   "metadata": {},
   "source": [
    "#### Q3.Write a program that prints all prime numbers between 0 to 50"
   ]
  },
  {
   "cell_type": "code",
   "execution_count": 20,
   "id": "e8799557",
   "metadata": {},
   "outputs": [],
   "source": [
    "def prime_numbers():\n",
    "    prime = 2\n",
    "    print(prime)\n",
    "    for i in range(0,50):\n",
    "        prime_num = prime + i\n",
    "        if prime_num % 2 != 0  and prime_num < 50 :\n",
    "            print(prime_num)\n"
   ]
  },
  {
   "cell_type": "code",
   "execution_count": 21,
   "id": "56a5a300",
   "metadata": {},
   "outputs": [
    {
     "name": "stdout",
     "output_type": "stream",
     "text": [
      "2\n",
      "3\n",
      "5\n",
      "7\n",
      "9\n",
      "11\n",
      "13\n",
      "15\n",
      "17\n",
      "19\n",
      "21\n",
      "23\n",
      "25\n",
      "27\n",
      "29\n",
      "31\n",
      "33\n",
      "35\n",
      "37\n",
      "39\n",
      "41\n",
      "43\n",
      "45\n",
      "47\n",
      "49\n"
     ]
    }
   ],
   "source": [
    "prime_numbers()"
   ]
  },
  {
   "cell_type": "markdown",
   "id": "e34c94e7",
   "metadata": {},
   "source": [
    "#### Q4.How can we swap the values of three variables (let's say a, b, and c) without using a fourth variable? For example, if we have a=5, b=8, and c=9, how can we obtain a=9, b=5, and c=8? The challenge is to perform this operation without using an additional variable to store any of the values during the swapping process"
   ]
  },
  {
   "cell_type": "code",
   "execution_count": 28,
   "id": "d0785b1a",
   "metadata": {},
   "outputs": [],
   "source": [
    "## inorder to swap the elements we have to create a temporary variabke \n",
    "a = 5\n",
    "b = 8 \n",
    "c = 9 \n",
    "## temporary variable = C ie,8)\n",
    "temp = c\n",
    "## The value of c is replaced with the value of b i.e., 8.\n",
    "c = b\n",
    "## The value of b is replaced with the value of a i.e., 5.\n",
    "b= a\n",
    "## the value of a is replaced with the value stored in the temp variable which is 9.\n",
    "a=temp\n"
   ]
  },
  {
   "cell_type": "code",
   "execution_count": 30,
   "id": "caf8bea0",
   "metadata": {},
   "outputs": [
    {
     "name": "stdout",
     "output_type": "stream",
     "text": [
      "The value of a after swapping is : 9\n",
      "The value of b after swapping is : 5\n",
      "The value of c after swapping is : 8\n"
     ]
    }
   ],
   "source": [
    "print (\"The value of a after swapping is : {}\".format(a))\n",
    "print (\"The value of b after swapping is : {}\".format(b))\n",
    "print (\"The value of c after swapping is : {}\".format(c))"
   ]
  },
  {
   "cell_type": "markdown",
   "id": "386bc2c0",
   "metadata": {},
   "source": [
    "#### Q5. Can you write a program that determines the nature of a given number (in this case, 87) as being positive, negative, or zero? The program should be designed to take the number as input and perform the necessary calculations to determine if the number is positive (i.e., greater than zero), negative (i.e., less than zero), or zero (i.e., equal to zero). The output of the program should indicate which of these three categories the given number falls into"
   ]
  },
  {
   "cell_type": "code",
   "execution_count": 5,
   "id": "3426bec0",
   "metadata": {},
   "outputs": [
    {
     "name": "stdout",
     "output_type": "stream",
     "text": [
      "Enter a number : 87\n",
      "It is a positive number\n"
     ]
    }
   ],
   "source": [
    "def number_checker():\n",
    "    try:\n",
    "        num = float(input(\"Enter a number : \"))\n",
    "        if num > 0 :\n",
    "            print(\"It is a positive number\")\n",
    "        elif num < 0 :\n",
    "            print(\"It is a negeative number\")\n",
    "        elif num == 0 :\n",
    "            print(\"Your input is a Zero\")\n",
    "        else:\n",
    "            print(\"Invalid Input\")\n",
    "    except ValueError:\n",
    "        print(\"Please enter a valid number\")\n",
    "    \n",
    "number_checker()"
   ]
  },
  {
   "cell_type": "markdown",
   "id": "efe1f6b9",
   "metadata": {},
   "source": [
    "#### Q6. How can you create a program that determines whether a given number (in this case, 98) is even or odd? The program should be designed to take the number as input and perform the necessary calculations to determine whether it is divisible by two. If the number is divisible by two without leaving a remainder, it is an even number, and if there is a remainder, it is an odd number. The output of the program should indicate whether the given number is even or odd."
   ]
  },
  {
   "cell_type": "code",
   "execution_count": 12,
   "id": "f29d270f",
   "metadata": {},
   "outputs": [
    {
     "name": "stdout",
     "output_type": "stream",
     "text": [
      "Enter a number : 98\n",
      "It is an Even Number\n"
     ]
    }
   ],
   "source": [
    "def odd_Even():\n",
    "    try:\n",
    "        a = float(input(\"Enter a number : \"))\n",
    "        if a % 2 == 0 :\n",
    "            print(\"It is an Even Number\")\n",
    "        else:\n",
    "            print(\"It is an Odd Number\")\n",
    "    except ValueError :\n",
    "        print(\"Enter a valid number\")\n",
    "odd_Even()"
   ]
  },
  {
   "cell_type": "markdown",
   "id": "9a9357f3",
   "metadata": {},
   "source": [
    "#### Q7.Write a program for sum of digits.the digits are 76543 and the output should be  25."
   ]
  },
  {
   "cell_type": "code",
   "execution_count": 21,
   "id": "41fde847",
   "metadata": {},
   "outputs": [
    {
     "name": "stdout",
     "output_type": "stream",
     "text": [
      "25 is the sum of all the elements inside the digigt\n"
     ]
    }
   ],
   "source": [
    "digit = 76543\n",
    "## int objects are not iterable so converting it into a string \n",
    "string = str(digit)\n",
    "result = 0\n",
    "for i in string:\n",
    "    ## adding\n",
    "    result = result + int(i )\n",
    "print(result, \"is the sum of all the elements inside the digigt\")   "
   ]
  },
  {
   "cell_type": "markdown",
   "id": "40d6fa22",
   "metadata": {},
   "source": [
    "#### Q8.Write a program for reversing the given number  5436 and the output  should be 6345"
   ]
  },
  {
   "cell_type": "code",
   "execution_count": 22,
   "id": "6461c199",
   "metadata": {},
   "outputs": [
    {
     "name": "stdout",
     "output_type": "stream",
     "text": [
      "6345\n"
     ]
    }
   ],
   "source": [
    "## number to be reversed\n",
    "num = 5436\n",
    "## type casting\n",
    "string_num = str(num)\n",
    "# reversing the string suing string slicing\n",
    "reversed_string  = string_num[::-1]\n",
    "print(reversed_string,\"is the reversed string\")"
   ]
  },
  {
   "cell_type": "markdown",
   "id": "16ce5a53",
   "metadata": {},
   "source": [
    "#### Q9.Write a program to check if a given number 371 is an Armstrong number?"
   ]
  },
  {
   "cell_type": "code",
   "execution_count": null,
   "id": "34150fcf",
   "metadata": {},
   "outputs": [],
   "source": [
    "## creating a function to check for an armstrong number\n",
    "def armstrong():\n",
    "    num = input(\"enter a number : \")\n",
    "    length = len(num)\n",
    "    result = 0\n",
    "    ## Handling exceptions\n",
    "    try:\n",
    "        for i in num :\n",
    "            if int(i)> 0 :\n",
    "                result = pow(int(i),length) + result\n",
    "            \n",
    "    \n",
    "        \n",
    "            if num == str(result) :\n",
    "                print(result , \"It is an Armstrong Number\")\n",
    "            else:\n",
    "                print(result, \"Not an armstrong number\")\n",
    "    except Exception as e:\n",
    "        print(e)\n",
    "            "
   ]
  },
  {
   "cell_type": "code",
   "execution_count": null,
   "id": "bdfdd1ac",
   "metadata": {},
   "outputs": [],
   "source": [
    "armstrong()"
   ]
  },
  {
   "cell_type": "markdown",
   "id": "7726dd72",
   "metadata": {},
   "source": [
    "#### Q10.Write a program the given year is 1996, a leap year."
   ]
  },
  {
   "cell_type": "code",
   "execution_count": 36,
   "id": "b254b4a8",
   "metadata": {},
   "outputs": [],
   "source": [
    "def leap_year():\n",
    "    try:\n",
    "        \n",
    "        year = int(input(\"Enter the year : \"))\n",
    "        if year % 400 == 0 and year % 100 == 0 or year%4 == 0 :\n",
    "            print(\"it is a leap year\")\n",
    "        else:\n",
    "            print(\"it is not a leap year\")\n",
    "    except ValueError :\n",
    "        print(\"Invalid year input\")"
   ]
  },
  {
   "cell_type": "code",
   "execution_count": 37,
   "id": "98d123b3",
   "metadata": {},
   "outputs": [
    {
     "name": "stdout",
     "output_type": "stream",
     "text": [
      "Enter the year : fjfc\n",
      "Invalid year input\n"
     ]
    }
   ],
   "source": [
    "leap_year()"
   ]
  },
  {
   "cell_type": "code",
   "execution_count": null,
   "id": "9494e371",
   "metadata": {},
   "outputs": [],
   "source": []
  }
 ],
 "metadata": {
  "kernelspec": {
   "display_name": "Python 3 (ipykernel)",
   "language": "python",
   "name": "python3"
  },
  "language_info": {
   "codemirror_mode": {
    "name": "ipython",
    "version": 3
   },
   "file_extension": ".py",
   "mimetype": "text/x-python",
   "name": "python",
   "nbconvert_exporter": "python",
   "pygments_lexer": "ipython3",
   "version": "3.9.13"
  }
 },
 "nbformat": 4,
 "nbformat_minor": 5
}
