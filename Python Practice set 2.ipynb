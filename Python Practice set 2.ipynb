{
 "cells": [
  {
   "cell_type": "markdown",
   "id": "4318d320",
   "metadata": {},
   "source": [
    "#### Q1. Create a list in python using the followings: 2,3,4,5,6,7 with variable ‘a’\n",
    "- Add ‘mango to the above list\n",
    " \n",
    "- Also add banana, grapes & orange in the list \n",
    "\n",
    "- insert apple in the 5th position of a variable ‘a’\n",
    "\n",
    "- Remove last item from the list\t        "
   ]
  },
  {
   "cell_type": "code",
   "execution_count": 12,
   "id": "05c9716e",
   "metadata": {},
   "outputs": [
    {
     "data": {
      "text/plain": [
       "'orange'"
      ]
     },
     "execution_count": 12,
     "metadata": {},
     "output_type": "execute_result"
    }
   ],
   "source": [
    "l = [2,3,4,5,6,7]\n",
    "## adding mango\n",
    "l.append(\"mango\")\n",
    "l.append(\"banana\")\n",
    "l.append(\"grapes\")\n",
    "l.append(\"orange\")\n",
    "l.insert(5,\"Apple\")\n",
    "## using pop to remove the item in the last index\n",
    "l.pop(-1)"
   ]
  },
  {
   "cell_type": "code",
   "execution_count": 13,
   "id": "0c2b630d",
   "metadata": {},
   "outputs": [
    {
     "data": {
      "text/plain": [
       "[2, 3, 4, 5, 6, 'Apple', 7, 'mango', 'banana', 'grapes']"
      ]
     },
     "execution_count": 13,
     "metadata": {},
     "output_type": "execute_result"
    }
   ],
   "source": [
    "l"
   ]
  },
  {
   "cell_type": "markdown",
   "id": "4b32bb13",
   "metadata": {},
   "source": [
    "#### Q2.\n",
    "\n",
    "L = [1,2,3,4,5,6,7]\n",
    "\n",
    "Using the above list slice from 1:4"
   ]
  },
  {
   "cell_type": "code",
   "execution_count": 14,
   "id": "44bc51f4",
   "metadata": {},
   "outputs": [
    {
     "data": {
      "text/plain": [
       "[2, 3, 4]"
      ]
     },
     "execution_count": 14,
     "metadata": {},
     "output_type": "execute_result"
    }
   ],
   "source": [
    "L = [1,2,3,4,5,6,7]\n",
    "L[1:4]"
   ]
  },
  {
   "cell_type": "markdown",
   "id": "36b6a71e",
   "metadata": {},
   "source": [
    "#### Q3. Reverse the order of given string L = [4,5,6,8,3] Without using reverse() function."
   ]
  },
  {
   "cell_type": "code",
   "execution_count": 16,
   "id": "2b38f9da",
   "metadata": {},
   "outputs": [
    {
     "data": {
      "text/plain": [
       "[3, 8, 6, 5, 4]"
      ]
     },
     "execution_count": 16,
     "metadata": {},
     "output_type": "execute_result"
    }
   ],
   "source": [
    "L = [4,5,6,8,3]\n",
    "l_reversed = L[::-1]\n",
    "l_reversed"
   ]
  },
  {
   "cell_type": "markdown",
   "id": "3a34566c",
   "metadata": {},
   "source": [
    "#### Q4. Use list comprehension to square the given list L=[2,4,7,3,6,8]"
   ]
  },
  {
   "cell_type": "code",
   "execution_count": 30,
   "id": "14c0da6a",
   "metadata": {},
   "outputs": [
    {
     "data": {
      "text/plain": [
       "[4, 16, 49, 9, 36, 64]"
      ]
     },
     "execution_count": 30,
     "metadata": {},
     "output_type": "execute_result"
    }
   ],
   "source": [
    "L = [2,4,7,3,6,8]\n",
    "[i **2 for i in L]"
   ]
  },
  {
   "cell_type": "code",
   "execution_count": 29,
   "id": "84fe3b45",
   "metadata": {},
   "outputs": [
    {
     "data": {
      "text/plain": [
       "[4, 16, 49, 9, 36, 64]"
      ]
     },
     "execution_count": 29,
     "metadata": {},
     "output_type": "execute_result"
    }
   ],
   "source": [
    "## using lambda function with map \n",
    "a =list( map(lambda x : x**2,L))\n",
    "a"
   ]
  },
  {
   "cell_type": "markdown",
   "id": "6df1a1af",
   "metadata": {},
   "source": [
    "#### Q5. Create a function that takes in a tuple of integers and returns the sum of the integers. Test the function with a tuple of your choice."
   ]
  },
  {
   "cell_type": "code",
   "execution_count": 16,
   "id": "c0a410be",
   "metadata": {},
   "outputs": [
    {
     "name": "stdout",
     "output_type": "stream",
     "text": [
      "16\n"
     ]
    }
   ],
   "source": [
    "# creating a function which returns the sum of integers\n",
    "def tuple_sum(t):\n",
    "    \n",
    "        sum_of_int = 0\n",
    "    ## using for loop to iterate over the tuple of integers\n",
    "        for i in t:\n",
    "            sum_of_int += i\n",
    "        print( sum_of_int)\n",
    "tuple_sum((4,5,7))     "
   ]
  },
  {
   "cell_type": "markdown",
   "id": "7c8d46b4",
   "metadata": {},
   "source": [
    "#### Q6. Create two sets of your favourite fruits, and use the union() method to combine them into a single set. Print the resulting set to the console"
   ]
  },
  {
   "cell_type": "code",
   "execution_count": 3,
   "id": "f2d1fb37",
   "metadata": {},
   "outputs": [
    {
     "name": "stdout",
     "output_type": "stream",
     "text": [
      "{'grapes', 'orange', 'mango', 'apple'} is the combined set\n"
     ]
    }
   ],
   "source": [
    "## creating set \n",
    "set1 = {\"apple\",\"mango\"}\n",
    "set2 = {\"orange\",\"grapes\"}\n",
    "# using union function\n",
    "union = set1.union(set2)\n",
    "print(union , \"is the combined set\")"
   ]
  },
  {
   "cell_type": "markdown",
   "id": "856c29b0",
   "metadata": {},
   "source": [
    "#### Q7. Create a set of random words, and use the add() method to add a new word to the set. Print the resulting set to the console."
   ]
  },
  {
   "cell_type": "code",
   "execution_count": 22,
   "id": "0c5be208",
   "metadata": {},
   "outputs": [
    {
     "data": {
      "text/plain": [
       "{'PowerBI', 'Prakash', 'SQL', 'Singh', 'Statistics'}"
      ]
     },
     "execution_count": 22,
     "metadata": {},
     "output_type": "execute_result"
    }
   ],
   "source": [
    "## creating a set\n",
    "s = {\"Prakash\",\"Statistics\" , \"PowerBI\", \"Singh\"}\n",
    "## adding SQL\n",
    "s.add(\"SQL\")\n",
    "#final set\n",
    "s"
   ]
  },
  {
   "cell_type": "markdown",
   "id": "0291bb77",
   "metadata": {},
   "source": [
    "#### Q8. Create a set of your favourite animals, and use the remove() method to remove one animal from the set. Print the resulting set to the console."
   ]
  },
  {
   "cell_type": "code",
   "execution_count": 1,
   "id": "d170c36e",
   "metadata": {},
   "outputs": [
    {
     "data": {
      "text/plain": [
       "{'Elephant', 'Lion', 'Tiger'}"
      ]
     },
     "execution_count": 1,
     "metadata": {},
     "output_type": "execute_result"
    }
   ],
   "source": [
    "## creating a set\n",
    "favourite_animals = {\"Elephant\",\"Tiger\",\"Lion\",\"Cheetah\"}\n",
    "## removing the animal cheetah\n",
    "favourite_animals.remove(\"Cheetah\")\n",
    "## final list\n",
    "favourite_animals"
   ]
  },
  {
   "cell_type": "markdown",
   "id": "9f05e88c",
   "metadata": {},
   "source": [
    "#### Q9. favorite_books = {\"1984\", \"To Kill a Mockingbird\", \"Pride and Prejudice\"}\n",
    "\n",
    "      favorite_movies = [\"The Shawshank Redemption\", \"The Godfather\", \"The Dark Knight\"]\n",
    "\n",
    "      Use the zip() function to combine the book set and movie list into a list of tuples  representing book/ \n",
    "\n",
    " movie pairs. Print the resulting list."
   ]
  },
  {
   "cell_type": "code",
   "execution_count": 1,
   "id": "985b4099",
   "metadata": {},
   "outputs": [
    {
     "name": "stdout",
     "output_type": "stream",
     "text": [
      "[('1984', 'The Shawshank Redemption'), ('Pride and Prejudice', 'The Godfather'), ('To Kill a Mockingbird', 'The Dark Knight')]\n"
     ]
    }
   ],
   "source": [
    "favorite_books = {\"1984\", \"To Kill a Mockingbird\", \"Pride and Prejudice\"}\n",
    "favorite_movies = [\"The Shawshank Redemption\", \"The Godfather\", \"The Dark Knight\"]\n",
    "book_movie_pairs = list(zip(favorite_books, favorite_movies))\n",
    "\n",
    "print(book_movie_pairs)"
   ]
  },
  {
   "cell_type": "markdown",
   "id": "7a53e176",
   "metadata": {},
   "source": [
    "#### Q10. Write a Python program to find the difference between consecutive numbers in a list"
   ]
  },
  {
   "cell_type": "code",
   "execution_count": 17,
   "id": "99919500",
   "metadata": {},
   "outputs": [
    {
     "name": "stdout",
     "output_type": "stream",
     "text": [
      "[3, 3, 3, 2]\n"
     ]
    }
   ],
   "source": [
    "## creating a function\n",
    "def consecutive_difference(lst):\n",
    "    diff = []\n",
    "    for i in range(1, len(lst)):\n",
    "        diff.append(lst[i] - lst[i-1])\n",
    "    return diff\n",
    "\n",
    "# Example usage\n",
    "my_list = [1, 4, 7, 10, 12]\n",
    "diff = consecutive_difference(my_list)\n",
    "print(diff)"
   ]
  },
  {
   "cell_type": "code",
   "execution_count": null,
   "id": "7eb8baf6",
   "metadata": {},
   "outputs": [],
   "source": [
    "\n"
   ]
  }
 ],
 "metadata": {
  "kernelspec": {
   "display_name": "Python 3 (ipykernel)",
   "language": "python",
   "name": "python3"
  },
  "language_info": {
   "codemirror_mode": {
    "name": "ipython",
    "version": 3
   },
   "file_extension": ".py",
   "mimetype": "text/x-python",
   "name": "python",
   "nbconvert_exporter": "python",
   "pygments_lexer": "ipython3",
   "version": "3.9.13"
  }
 },
 "nbformat": 4,
 "nbformat_minor": 5
}
