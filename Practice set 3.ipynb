{
 "cells": [
  {
   "cell_type": "markdown",
   "id": "185f653a",
   "metadata": {},
   "source": [
    "#### Q1. Create a dictionary called fruits with the following key-value pairs:\n",
    "\n",
    "\"apple\": 0.75\n",
    "\n",
    "\"banana\": 1.25\n",
    "\n",
    "\"orange\": 0.90\n",
    "\n",
    "Then, print out the price of a banana."
   ]
  },
  {
   "cell_type": "code",
   "execution_count": 16,
   "id": "9a934202",
   "metadata": {},
   "outputs": [
    {
     "name": "stdout",
     "output_type": "stream",
     "text": [
      "1.25\n"
     ]
    }
   ],
   "source": [
    "dic = {\"apple\": 0.75,\n",
    "\n",
    "\"banana\": 1.25,\n",
    "\n",
    "\"orange\": 0.90}\n",
    "\n",
    "print(dic[\"banana\"])"
   ]
  },
  {
   "cell_type": "markdown",
   "id": "7ef9ea61",
   "metadata": {},
   "source": [
    "#### Q2. Create an empty dictionary called ages. Add the following key-value pairs to the dictionary:\n",
    "\n",
    "\"Alice\": 30\n",
    "\n",
    "\"Bob\": 25\n",
    "\n",
    "\"Charlie\": 35\n",
    "\n",
    "Then, print out the age of Charlie."
   ]
  },
  {
   "cell_type": "code",
   "execution_count": 17,
   "id": "29b8b0b4",
   "metadata": {},
   "outputs": [],
   "source": [
    "def add_dict():\n",
    "    ages = {}\n",
    "    \n",
    "    while True:\n",
    "        key = input(\"Enter the value for the key : \")\n",
    "        value = input(\"Enter the value\")\n",
    "        ages[key] = value\n",
    "        enter_more = input(\"Enter Y to enter more else type anything \")\n",
    "        if enter_more == \"Y\":\n",
    "            continue\n",
    "        else:\n",
    "            break\n",
    "    print(ages, \"is your final dictionary\")"
   ]
  },
  {
   "cell_type": "code",
   "execution_count": 18,
   "id": "0ff33f4a",
   "metadata": {},
   "outputs": [
    {
     "name": "stdout",
     "output_type": "stream",
     "text": [
      "Enter the value for the key : \"Alice\"\n",
      "Enter the value30\n",
      "Enter Y to enter more else type anything Y\n",
      "Enter the value for the key : \"Charlie\"\n",
      "Enter the value35\n",
      "Enter Y to enter more else type anything Y\n",
      "Enter the value for the key : Bob\n",
      "Enter the value25\n",
      "Enter Y to enter more else type anything j\n",
      "{'\"Alice\"': '30', '\"Charlie\"': '35', 'Bob': '25'}\n"
     ]
    }
   ],
   "source": [
    "add_dict()"
   ]
  },
  {
   "cell_type": "markdown",
   "id": "21388aab",
   "metadata": {},
   "source": [
    "#### Q3. Write a function called word_count(text) that takes a string as input and returns a dictionary where each key is a word in the text and its value is the number of times that word appears in the text. For example, word_count(\"hello world hello\") should return {\"hello\": 2, \"world\": 1}"
   ]
  },
  {
   "cell_type": "code",
   "execution_count": null,
   "id": "f4401e3e",
   "metadata": {},
   "outputs": [],
   "source": [
    "def word_count():\n",
    "    string = input(\"Enter the string\")\n",
    "    for i in string:\n",
    "        dict= {i : }"
   ]
  },
  {
   "cell_type": "code",
   "execution_count": null,
   "id": "a0ea9081",
   "metadata": {},
   "outputs": [],
   "source": []
  },
  {
   "cell_type": "markdown",
   "id": "86224306",
   "metadata": {},
   "source": [
    "#### Q4. Create a dictionary called phone_book with the following key-value pairs:\n",
    "\n",
    "\"Alice\": \"555-1234\"\n",
    "\n",
    "\"Bob\": \"555-5678\"\n",
    "\n",
    "\"Charlie\": \"555-9012\"\n",
    "\n",
    "Then, prompt the user to enter a name and print out the corresponding phone number. If the name is not \n",
    "in the phone book, print out a message saying that the name was not found."
   ]
  },
  {
   "cell_type": "code",
   "execution_count": 19,
   "id": "0c0dbe04",
   "metadata": {},
   "outputs": [
    {
     "name": "stdout",
     "output_type": "stream",
     "text": [
      "Enter a name: Alice\n",
      "The phone number for Alice is 555-1234.\n"
     ]
    }
   ],
   "source": [
    "phone_book = {\"Alice\": \"555-1234\", \"Bob\": \"555-5678\", \"Charlie\": \"555-9012\"}\n",
    "\n",
    "name = input(\"Enter a name: \")\n",
    "\n",
    "if name in phone_book:\n",
    "    phone_number = phone_book[name]\n",
    "    print(f\"The phone number for {name} is {phone_number}.\")\n",
    "else:\n",
    "    print(f\"Sorry, the name {name} was not found in the phone book.\")"
   ]
  },
  {
   "cell_type": "code",
   "execution_count": null,
   "id": "0184fa80",
   "metadata": {},
   "outputs": [],
   "source": []
  },
  {
   "cell_type": "markdown",
   "id": "ff1e3115",
   "metadata": {},
   "source": [
    "#### Q5. Write a program that prompts the user to enter a number between 1 and 10. If the number is less than 5, print out \"Too low!\", otherwise print out \"Too high!\""
   ]
  },
  {
   "cell_type": "code",
   "execution_count": 18,
   "id": "e014a010",
   "metadata": {},
   "outputs": [],
   "source": [
    "def high_low():\n",
    "    try:\n",
    "        num = int(input(\"Enter a number \"))\n",
    "    \n",
    "        if num < 5 :\n",
    "            print(\"Too Low\")\n",
    "        else:\n",
    "            print(\"Too High\")\n",
    "    except ValueError:\n",
    "        print(\"Invalid number input\")"
   ]
  },
  {
   "cell_type": "code",
   "execution_count": 20,
   "id": "81d61b44",
   "metadata": {},
   "outputs": [
    {
     "name": "stdout",
     "output_type": "stream",
     "text": [
      "Enter a number 5\n",
      "Too High\n"
     ]
    }
   ],
   "source": [
    "high_low()"
   ]
  },
  {
   "cell_type": "markdown",
   "id": "534a05fb",
   "metadata": {},
   "source": [
    "#### Q6. Write a program that prompts the user to enter a password. If the password is \"password123\", print out \"Access granted\", otherwise print out \"Access denied\"."
   ]
  },
  {
   "cell_type": "code",
   "execution_count": 23,
   "id": "5548259b",
   "metadata": {},
   "outputs": [],
   "source": [
    "def password():\n",
    "    password = input(\"Enter a password : \")\n",
    "    real_pass = \"password123\"\n",
    "    if password == real_pass:\n",
    "        print(\"Access Granted\")\n",
    "    else:\n",
    "        print(\"Access Denied\")    "
   ]
  },
  {
   "cell_type": "code",
   "execution_count": 24,
   "id": "33730806",
   "metadata": {},
   "outputs": [
    {
     "name": "stdout",
     "output_type": "stream",
     "text": [
      "Enter a password : password123\n",
      "Access Granted\n"
     ]
    }
   ],
   "source": [
    "password()"
   ]
  },
  {
   "cell_type": "markdown",
   "id": "dd08f894",
   "metadata": {},
   "source": [
    "#### Q7. Write a program that prompts the user to enter a positive integer. Then, use a loop to print out all the odd numbers from 1 to that integer."
   ]
  },
  {
   "cell_type": "code",
   "execution_count": 31,
   "id": "ca453aa8",
   "metadata": {},
   "outputs": [],
   "source": [
    "def odd_num():\n",
    "    try: \n",
    "        n = int(input(\"Enter a postive integer :\"))\n",
    "        if n > 1 :\n",
    "            for i in range(1,n):\n",
    "                if i % 2 != 0 :\n",
    "                    print(i)\n",
    "    except ValueError :\n",
    "        print(\"Invalid poitive integer\")"
   ]
  },
  {
   "cell_type": "code",
   "execution_count": 33,
   "id": "d2edb8bb",
   "metadata": {},
   "outputs": [
    {
     "name": "stdout",
     "output_type": "stream",
     "text": [
      "Enter a postive integer :5\n",
      "1\n",
      "3\n"
     ]
    }
   ],
   "source": [
    "odd_num()"
   ]
  },
  {
   "cell_type": "markdown",
   "id": "fd6c7031",
   "metadata": {},
   "source": [
    "#### Q8. Write a program that generates a random number between 1 and 100 and then prompts the user to guess the number. If the user's guess is too low, print out \"Too low!\", if the guess is too high, print out \"Too high!\", and if the guess is correct, print out \"You win!\""
   ]
  },
  {
   "cell_type": "code",
   "execution_count": 3,
   "id": "bd76ffee",
   "metadata": {},
   "outputs": [],
   "source": [
    "class num_range(Exception):\n",
    "    def __init__  (self,msg):\n",
    "        self.msg = msg"
   ]
  },
  {
   "cell_type": "code",
   "execution_count": 9,
   "id": "02816fb9",
   "metadata": {},
   "outputs": [],
   "source": [
    "def num_ranges(num):\n",
    "    if num > 100 :\n",
    "        raise num_range (\"Number exceeds threshold\")\n",
    "    elif num < 0 :\n",
    "        raise num_range(\"Number is below threshold\")\n",
    "    else: \n",
    "        print(\"Valid number\")"
   ]
  },
  {
   "cell_type": "code",
   "execution_count": 14,
   "id": "03e0841d",
   "metadata": {},
   "outputs": [],
   "source": [
    "import random\n",
    "def number_guess():\n",
    "    try:\n",
    "        try:\n",
    "            num= int(input(\"Guess a number between 0 to 100 \"))\n",
    "            r =random.randrange(0,100)\n",
    "            if r > num :\n",
    "                print(\"Too High\")\n",
    "            elif r < num :\n",
    "                print(\"Too Low\")\n",
    "            elif r == num :\n",
    "                print(\"You Win\")\n",
    "            else:\n",
    "                print(\"Invalid\")\n",
    "        \n",
    "        except ValueError:\n",
    "            print(\"Invalid number input\")\n",
    "    except num_range as e:\n",
    "            print(num_range)"
   ]
  },
  {
   "cell_type": "code",
   "execution_count": 15,
   "id": "e5785707",
   "metadata": {},
   "outputs": [
    {
     "name": "stdout",
     "output_type": "stream",
     "text": [
      "Guess a number between 0 to 100 8989898\n",
      "Too Low\n"
     ]
    }
   ],
   "source": [
    "number_guess()"
   ]
  },
  {
   "cell_type": "code",
   "execution_count": null,
   "id": "e2269b48",
   "metadata": {},
   "outputs": [],
   "source": []
  },
  {
   "cell_type": "markdown",
   "id": "c3d13cb2",
   "metadata": {},
   "source": [
    "#### Q9. Write a program that generates a random number between 1 and 10 and then prompts the user to guess the number. The user has three attempts to guess the number. If the user guesses correctly within three attempts, print out \"You win!\", otherwise print out \"You lose!\"."
   ]
  },
  {
   "cell_type": "code",
   "execution_count": 17,
   "id": "f2f4ce80",
   "metadata": {},
   "outputs": [],
   "source": [
    "def guess_three():\n",
    "    try:\n",
    "        import random\n",
    "        random_nums = random.randrange(10)\n",
    "        i = 1\n",
    "        while i != 4 :\n",
    "            nums = int(input(\"Enter a number : \"))\n",
    "            if random_nums == nums :\n",
    "                print(\"You Win\")\n",
    "                break\n",
    "            else:\n",
    "                print(\"You Lose\")\n",
    "            i = i +  1 \n",
    "        print(random_nums, \"Was the correct guess\")\n",
    "    except ValueError:\n",
    "        print(\"Invalid input\")\n"
   ]
  },
  {
   "cell_type": "code",
   "execution_count": 18,
   "id": "b9b2cb0f",
   "metadata": {},
   "outputs": [
    {
     "name": "stdout",
     "output_type": "stream",
     "text": [
      "Enter a number : 7\n",
      "You Lose\n",
      "Enter a number : 2\n",
      "You Lose\n",
      "Enter a number : 0\n",
      "You Win\n",
      "0 Was the correct guess\n"
     ]
    }
   ],
   "source": [
    "guess_three()"
   ]
  },
  {
   "cell_type": "markdown",
   "id": "b38c61d3",
   "metadata": {},
   "source": [
    "#### Q10. Write a program that prompts the user to enter their age and then prints out whether they are a child (age 0-12), a teenager (age 13-19), an adult (age 20-59), or a senior (age 60+)"
   ]
  },
  {
   "cell_type": "code",
   "execution_count": 3,
   "id": "47127638",
   "metadata": {
    "scrolled": true
   },
   "outputs": [
    {
     "name": "stdout",
     "output_type": "stream",
     "text": [
      "Enter your age : 70\n",
      "You are a Senior\n"
     ]
    }
   ],
   "source": [
    "try: \n",
    "    age = int(input(\"Enter your age : \"))\n",
    "## condition\n",
    "    if age > 0 and age <= 12 :\n",
    "        print(\"You are a child \")\n",
    "    elif age >= 13 and age <=19 :\n",
    "        print(\"You are a Teenager\")\n",
    "    elif age>= 20 and age<=59 :\n",
    "        print(\"You are an Adult\")\n",
    "    elif age>100:\n",
    "        print(\"Age is too high\")\n",
    "    else:\n",
    "        print(\"You are a Senior\")\n",
    "except ValueError :\n",
    "    print(\"Invalid Input\")"
   ]
  },
  {
   "cell_type": "code",
   "execution_count": null,
   "id": "2ab8b665",
   "metadata": {},
   "outputs": [],
   "source": []
  },
  {
   "cell_type": "code",
   "execution_count": null,
   "id": "d4bd0ed4",
   "metadata": {},
   "outputs": [],
   "source": []
  }
 ],
 "metadata": {
  "kernelspec": {
   "display_name": "Python 3 (ipykernel)",
   "language": "python",
   "name": "python3"
  },
  "language_info": {
   "codemirror_mode": {
    "name": "ipython",
    "version": 3
   },
   "file_extension": ".py",
   "mimetype": "text/x-python",
   "name": "python",
   "nbconvert_exporter": "python",
   "pygments_lexer": "ipython3",
   "version": "3.9.13"
  }
 },
 "nbformat": 4,
 "nbformat_minor": 5
}
